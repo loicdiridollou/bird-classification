{
  "nbformat": 4,
  "nbformat_minor": 0,
  "metadata": {
    "kernelspec": {
      "name": "python3",
      "display_name": "Python 3"
    },
    "language_info": {
      "codemirror_mode": {
        "name": "ipython",
        "version": 3
      },
      "file_extension": ".py",
      "mimetype": "text/x-python",
      "name": "python",
      "nbconvert_exporter": "python",
      "pygments_lexer": "ipython3",
      "version": "3.7.0"
    },
    "colab": {
      "name": "bird-classification.ipynb",
      "provenance": []
    },
    "accelerator": "GPU",
    "widgets": {
      "application/vnd.jupyter.widget-state+json": {
        "d2589a04d9fd49fe98ca590ce78b6613": {
          "model_module": "@jupyter-widgets/controls",
          "model_name": "HBoxModel",
          "state": {
            "_view_name": "HBoxView",
            "_dom_classes": [],
            "_model_name": "HBoxModel",
            "_view_module": "@jupyter-widgets/controls",
            "_model_module_version": "1.5.0",
            "_view_count": null,
            "_view_module_version": "1.5.0",
            "box_style": "",
            "layout": "IPY_MODEL_3ad09678c79c4ff0bf1e9c9b63638c93",
            "_model_module": "@jupyter-widgets/controls",
            "children": [
              "IPY_MODEL_a46495244f0c4cf5845a958eb2f7d09d",
              "IPY_MODEL_323e2bf4cf564a61ab7752485fa65d1b"
            ]
          }
        },
        "3ad09678c79c4ff0bf1e9c9b63638c93": {
          "model_module": "@jupyter-widgets/base",
          "model_name": "LayoutModel",
          "state": {
            "_view_name": "LayoutView",
            "grid_template_rows": null,
            "right": null,
            "justify_content": null,
            "_view_module": "@jupyter-widgets/base",
            "overflow": null,
            "_model_module_version": "1.2.0",
            "_view_count": null,
            "flex_flow": null,
            "width": null,
            "min_width": null,
            "border": null,
            "align_items": null,
            "bottom": null,
            "_model_module": "@jupyter-widgets/base",
            "top": null,
            "grid_column": null,
            "overflow_y": null,
            "overflow_x": null,
            "grid_auto_flow": null,
            "grid_area": null,
            "grid_template_columns": null,
            "flex": null,
            "_model_name": "LayoutModel",
            "justify_items": null,
            "grid_row": null,
            "max_height": null,
            "align_content": null,
            "visibility": null,
            "align_self": null,
            "height": null,
            "min_height": null,
            "padding": null,
            "grid_auto_rows": null,
            "grid_gap": null,
            "max_width": null,
            "order": null,
            "_view_module_version": "1.2.0",
            "grid_template_areas": null,
            "object_position": null,
            "object_fit": null,
            "grid_auto_columns": null,
            "margin": null,
            "display": null,
            "left": null
          }
        },
        "a46495244f0c4cf5845a958eb2f7d09d": {
          "model_module": "@jupyter-widgets/controls",
          "model_name": "IntProgressModel",
          "state": {
            "_view_name": "ProgressView",
            "style": "IPY_MODEL_fa1473ddbc0746bb8ad5a31f571000b5",
            "_dom_classes": [],
            "description": "100%",
            "_model_name": "IntProgressModel",
            "bar_style": "success",
            "max": 46827520,
            "_view_module": "@jupyter-widgets/controls",
            "_model_module_version": "1.5.0",
            "value": 46827520,
            "_view_count": null,
            "_view_module_version": "1.5.0",
            "orientation": "horizontal",
            "min": 0,
            "description_tooltip": null,
            "_model_module": "@jupyter-widgets/controls",
            "layout": "IPY_MODEL_170350223dc844d6b08387aad3d6eb5e"
          }
        },
        "323e2bf4cf564a61ab7752485fa65d1b": {
          "model_module": "@jupyter-widgets/controls",
          "model_name": "HTMLModel",
          "state": {
            "_view_name": "HTMLView",
            "style": "IPY_MODEL_055a4ebece2d42b1ab9953116abc1026",
            "_dom_classes": [],
            "description": "",
            "_model_name": "HTMLModel",
            "placeholder": "​",
            "_view_module": "@jupyter-widgets/controls",
            "_model_module_version": "1.5.0",
            "value": " 44.7M/44.7M [00:00&lt;00:00, 72.9MB/s]",
            "_view_count": null,
            "_view_module_version": "1.5.0",
            "description_tooltip": null,
            "_model_module": "@jupyter-widgets/controls",
            "layout": "IPY_MODEL_d3fe13a671904a2d9b2f4d105d9da41b"
          }
        },
        "fa1473ddbc0746bb8ad5a31f571000b5": {
          "model_module": "@jupyter-widgets/controls",
          "model_name": "ProgressStyleModel",
          "state": {
            "_view_name": "StyleView",
            "_model_name": "ProgressStyleModel",
            "description_width": "initial",
            "_view_module": "@jupyter-widgets/base",
            "_model_module_version": "1.5.0",
            "_view_count": null,
            "_view_module_version": "1.2.0",
            "bar_color": null,
            "_model_module": "@jupyter-widgets/controls"
          }
        },
        "170350223dc844d6b08387aad3d6eb5e": {
          "model_module": "@jupyter-widgets/base",
          "model_name": "LayoutModel",
          "state": {
            "_view_name": "LayoutView",
            "grid_template_rows": null,
            "right": null,
            "justify_content": null,
            "_view_module": "@jupyter-widgets/base",
            "overflow": null,
            "_model_module_version": "1.2.0",
            "_view_count": null,
            "flex_flow": null,
            "width": null,
            "min_width": null,
            "border": null,
            "align_items": null,
            "bottom": null,
            "_model_module": "@jupyter-widgets/base",
            "top": null,
            "grid_column": null,
            "overflow_y": null,
            "overflow_x": null,
            "grid_auto_flow": null,
            "grid_area": null,
            "grid_template_columns": null,
            "flex": null,
            "_model_name": "LayoutModel",
            "justify_items": null,
            "grid_row": null,
            "max_height": null,
            "align_content": null,
            "visibility": null,
            "align_self": null,
            "height": null,
            "min_height": null,
            "padding": null,
            "grid_auto_rows": null,
            "grid_gap": null,
            "max_width": null,
            "order": null,
            "_view_module_version": "1.2.0",
            "grid_template_areas": null,
            "object_position": null,
            "object_fit": null,
            "grid_auto_columns": null,
            "margin": null,
            "display": null,
            "left": null
          }
        },
        "055a4ebece2d42b1ab9953116abc1026": {
          "model_module": "@jupyter-widgets/controls",
          "model_name": "DescriptionStyleModel",
          "state": {
            "_view_name": "StyleView",
            "_model_name": "DescriptionStyleModel",
            "description_width": "",
            "_view_module": "@jupyter-widgets/base",
            "_model_module_version": "1.5.0",
            "_view_count": null,
            "_view_module_version": "1.2.0",
            "_model_module": "@jupyter-widgets/controls"
          }
        },
        "d3fe13a671904a2d9b2f4d105d9da41b": {
          "model_module": "@jupyter-widgets/base",
          "model_name": "LayoutModel",
          "state": {
            "_view_name": "LayoutView",
            "grid_template_rows": null,
            "right": null,
            "justify_content": null,
            "_view_module": "@jupyter-widgets/base",
            "overflow": null,
            "_model_module_version": "1.2.0",
            "_view_count": null,
            "flex_flow": null,
            "width": null,
            "min_width": null,
            "border": null,
            "align_items": null,
            "bottom": null,
            "_model_module": "@jupyter-widgets/base",
            "top": null,
            "grid_column": null,
            "overflow_y": null,
            "overflow_x": null,
            "grid_auto_flow": null,
            "grid_area": null,
            "grid_template_columns": null,
            "flex": null,
            "_model_name": "LayoutModel",
            "justify_items": null,
            "grid_row": null,
            "max_height": null,
            "align_content": null,
            "visibility": null,
            "align_self": null,
            "height": null,
            "min_height": null,
            "padding": null,
            "grid_auto_rows": null,
            "grid_gap": null,
            "max_width": null,
            "order": null,
            "_view_module_version": "1.2.0",
            "grid_template_areas": null,
            "object_position": null,
            "object_fit": null,
            "grid_auto_columns": null,
            "margin": null,
            "display": null,
            "left": null
          }
        }
      }
    }
  },
  "cells": [
    {
      "cell_type": "markdown",
      "metadata": {
        "id": "YA8u0V1uqwMO",
        "colab_type": "text"
      },
      "source": [
        "# Bird Classification using PyTorch pretrained model\n",
        "\n",
        "### Dataset available on Kaggle"
      ]
    },
    {
      "cell_type": "markdown",
      "metadata": {
        "id": "pR6ToRPfqwMS",
        "colab_type": "text"
      },
      "source": [
        "### Importing packages"
      ]
    },
    {
      "cell_type": "code",
      "metadata": {
        "id": "7LZvk0ZnqwMV",
        "colab_type": "code",
        "colab": {}
      },
      "source": [
        "import numpy as np\n",
        "import matplotlib.pyplot as plt\n",
        "\n",
        "\n",
        "import sys\n",
        "import time\n",
        "import copy\n",
        "import torch\n",
        "import torch.nn as nn\n",
        "import torch.nn.functional as F\n",
        "import torch.optim as optim\n",
        "from torch.optim import lr_scheduler\n",
        "import torchvision\n",
        "import torchvision.transforms as transforms\n",
        "from torchvision import models"
      ],
      "execution_count": 0,
      "outputs": []
    },
    {
      "cell_type": "code",
      "metadata": {
        "id": "2yxhnVqDqwMc",
        "colab_type": "code",
        "outputId": "aeb62594-79e1-4ef4-d4fc-94fb24cb8ab5",
        "colab": {
          "base_uri": "https://localhost:8080/",
          "height": 34
        }
      },
      "source": [
        "if torch.cuda.is_available():\n",
        "    dev = \"cuda:0\"  # Gpu\n",
        "else:\n",
        "    dev = \"cpu\"\n",
        "\n",
        "device = torch.device(dev)\n",
        "\n",
        "print(torch.cuda.is_available())"
      ],
      "execution_count": 0,
      "outputs": [
        {
          "output_type": "stream",
          "text": [
            "True\n"
          ],
          "name": "stdout"
        }
      ]
    },
    {
      "cell_type": "code",
      "metadata": {
        "id": "gzbpuux9rpw4",
        "colab_type": "code",
        "outputId": "b59ec182-4406-479d-c5b8-bcd4e7d1ba15",
        "colab": {
          "base_uri": "https://localhost:8080/",
          "height": 34
        }
      },
      "source": [
        "from google.colab import drive\n",
        "drive.mount('/content/gdrive')"
      ],
      "execution_count": 0,
      "outputs": [
        {
          "output_type": "stream",
          "text": [
            "Drive already mounted at /content/gdrive; to attempt to forcibly remount, call drive.mount(\"/content/gdrive\", force_remount=True).\n"
          ],
          "name": "stdout"
        }
      ]
    },
    {
      "cell_type": "markdown",
      "metadata": {
        "id": "DjaTzp4xqwMh",
        "colab_type": "text"
      },
      "source": [
        "##### Creating utilities to import images"
      ]
    },
    {
      "cell_type": "code",
      "metadata": {
        "id": "vxbCsszkqwMj",
        "colab_type": "code",
        "colab": {}
      },
      "source": [
        "transform = transforms.Compose(\n",
        "    [transforms.ToTensor(),\n",
        "    transforms.Normalize((0.5, 0.5, 0.5), (0.5, 0.5, 0.5))]\n",
        ")\n",
        "\n",
        "\n",
        "trainset = torchvision.datasets.ImageFolder(root=\"gdrive/My Drive/data/bird-classification/train/\", transform=transform)\n",
        "trainloader = torch.utils.data.DataLoader(trainset, batch_size=64, num_workers=0, shuffle=True)\n",
        "\n",
        "testset = torchvision.datasets.ImageFolder(root=\"gdrive/My Drive/data/bird-classification/test/\", transform=transform)\n",
        "testloader = torch.utils.data.DataLoader(testset, batch_size=64, num_workers=0, shuffle=False)\n",
        "\n",
        "\n",
        "# Creating dicos to fill information into them\n",
        "dataloaders = {\"train\": trainloader,\n",
        "               \"test\": testloader}\n",
        "\n",
        "datasizes = {\"train\": len(trainset),\n",
        "             \"test\": len(testset)}\n",
        "\n",
        "CLASSES = list(trainset.class_to_idx.keys())"
      ],
      "execution_count": 0,
      "outputs": []
    },
    {
      "cell_type": "code",
      "metadata": {
        "id": "LCw5WR_fqwMs",
        "colab_type": "code",
        "outputId": "679a8629-c9b6-4200-8145-37915d748efa",
        "colab": {
          "base_uri": "https://localhost:8080/",
          "height": 34
        }
      },
      "source": [
        "datasizes"
      ],
      "execution_count": 0,
      "outputs": [
        {
          "output_type": "execute_result",
          "data": {
            "text/plain": [
              "{'test': 750, 'train': 19792}"
            ]
          },
          "metadata": {
            "tags": []
          },
          "execution_count": 5
        }
      ]
    },
    {
      "cell_type": "markdown",
      "metadata": {
        "id": "bYudZlB8qwM0",
        "colab_type": "text"
      },
      "source": [
        "##### Creating a function to display images"
      ]
    },
    {
      "cell_type": "code",
      "metadata": {
        "id": "jT5clNBbqwM2",
        "colab_type": "code",
        "colab": {}
      },
      "source": [
        "def imshow(img, size=(10, 10)):\n",
        "    img = img / 2 + 0.5\n",
        "    npimg = img.numpy()\n",
        "    if size:\n",
        "        plt.figure(figsize=size)\n",
        "    \n",
        "    plt.imshow(np.transpose(npimg, (1, 2, 0)))\n",
        "    plt.title(\"One mini batch\")\n",
        "    plt.axis(\"off\")\n",
        "    plt.pause(0.001)"
      ],
      "execution_count": 0,
      "outputs": []
    },
    {
      "cell_type": "markdown",
      "metadata": {
        "id": "56x9h7nqqwM9",
        "colab_type": "text"
      },
      "source": [
        "### CNN"
      ]
    },
    {
      "cell_type": "markdown",
      "metadata": {
        "id": "B1edzBkzqwM_",
        "colab_type": "text"
      },
      "source": [
        "##### Defining the CNN model"
      ]
    },
    {
      "cell_type": "code",
      "metadata": {
        "id": "XSd4-Zx2qwNA",
        "colab_type": "code",
        "outputId": "40e51c24-05e2-41e9-ea05-f0ce095370a7",
        "colab": {
          "base_uri": "https://localhost:8080/",
          "height": 153
        }
      },
      "source": [
        "class Net(nn.Module):\n",
        "    def __init__(self):\n",
        "        super(Net, self).__init__()\n",
        "        self.conv1 = nn.Conv2d(3, 6, 5)\n",
        "        self.pool = nn.MaxPool2d(2, 2)\n",
        "        self.conv2 = nn.Conv2d(6, 16, 5)\n",
        "        self.fc1 = nn.Linear(16*53*53, 2809)\n",
        "        self.fc2 = nn.Linear(2809, 512)\n",
        "        self.fc3 = nn.Linear(512, len(CLASSES))\n",
        "        \n",
        "    def forward(self, x):\n",
        "        x = self.pool(F.relu(self.conv1(x)))\n",
        "        x = self.pool(F.relu(self.conv2(x)))\n",
        "        x = x.view(-1, 16*53*53)\n",
        "        x = F.relu(self.fc1(x))\n",
        "        x = F.relu(self.fc2(x))\n",
        "        x = self.fc3(x)\n",
        "        return x\n",
        "\n",
        "net = Net()\n",
        "net.to(device)"
      ],
      "execution_count": 0,
      "outputs": [
        {
          "output_type": "execute_result",
          "data": {
            "text/plain": [
              "Net(\n",
              "  (conv1): Conv2d(3, 6, kernel_size=(5, 5), stride=(1, 1))\n",
              "  (pool): MaxPool2d(kernel_size=2, stride=2, padding=0, dilation=1, ceil_mode=False)\n",
              "  (conv2): Conv2d(6, 16, kernel_size=(5, 5), stride=(1, 1))\n",
              "  (fc1): Linear(in_features=44944, out_features=2809, bias=True)\n",
              "  (fc2): Linear(in_features=2809, out_features=512, bias=True)\n",
              "  (fc3): Linear(in_features=512, out_features=150, bias=True)\n",
              ")"
            ]
          },
          "metadata": {
            "tags": []
          },
          "execution_count": 7
        }
      ]
    },
    {
      "cell_type": "markdown",
      "metadata": {
        "id": "waLcC8YVqwNE",
        "colab_type": "text"
      },
      "source": [
        "##### Training our model"
      ]
    },
    {
      "cell_type": "code",
      "metadata": {
        "id": "uL0rDJZVqwNF",
        "colab_type": "code",
        "colab": {}
      },
      "source": [
        "criterion = nn.CrossEntropyLoss()\n",
        "optimizer = optim.SGD(net.parameters(), lr=0.01, momentum=0.9)"
      ],
      "execution_count": 0,
      "outputs": []
    },
    {
      "cell_type": "code",
      "metadata": {
        "id": "5PSb6AZKqwNJ",
        "colab_type": "code",
        "outputId": "f28dde7c-dccb-4ddf-e03d-bb9e9074eb39",
        "colab": {
          "base_uri": "https://localhost:8080/",
          "height": 153
        }
      },
      "source": [
        "for epoch in range(2):\n",
        "    running_loss = 0.0\n",
        "    best_acc = 0.0\n",
        "    for i, data in enumerate(trainloader, 0):\n",
        "        inputs, labels = data\n",
        "        inputs = inputs.to(device)\n",
        "        labels = labels.to(device)\n",
        "        optimizer.zero_grad()\n",
        "\n",
        "        outputs = net(inputs)\n",
        "        loss = criterion(outputs, labels)\n",
        "        loss.backward()\n",
        "        optimizer.step()\n",
        "        _, preds = torch.max(outputs, 1)\n",
        "        corrects = torch.sum(preds == labels.data)\n",
        "        # print Running loss\n",
        "        running_loss += loss.item()\n",
        "        if i % 100 == 99:\n",
        "            print('[%d, %5d] loss: %.3f' % (epoch + 1, i + 1, running_loss / 100))\n",
        "            running_loss = 0.0\n",
        "    print(\"Epoch: {} Accuracy: {}\".format(epoch, corrects.double()/datasizes[\"train\"]))"
      ],
      "execution_count": 0,
      "outputs": [
        {
          "output_type": "stream",
          "text": [
            "[1,   100] loss: 4.999\n",
            "[1,   200] loss: 4.858\n",
            "[1,   300] loss: 4.701\n",
            "Epoch: 0 Accuracy: 5.052546483427647e-05\n",
            "[2,   100] loss: 4.382\n",
            "[2,   200] loss: 4.041\n",
            "[2,   300] loss: 3.747\n",
            "Epoch: 1 Accuracy: 0.0002021018593371059\n"
          ],
          "name": "stdout"
        }
      ]
    },
    {
      "cell_type": "code",
      "metadata": {
        "id": "H9dY5twBqwNO",
        "colab_type": "code",
        "colab": {}
      },
      "source": [
        "def train_model(model, criterion, optimizer, scheduler, epochs=25):\n",
        "    since = time.time()\n",
        "    best_model_wts = copy.deepcopy(model.state_dict())\n",
        "    best_acc = 0.0\n",
        "    \n",
        "    for epoch in range(epochs):\n",
        "        print(\"Epoch {}/{}\".format(epoch, epochs-1))\n",
        "        print(\"-\"*10)\n",
        "        \n",
        "        for phase in [\"train\", \"test\"]:\n",
        "            if phase == \"train\":\n",
        "                model.train()\n",
        "            else:\n",
        "                model.eval()\n",
        "            running_loss = 0.0\n",
        "            running_corrects = 0 \n",
        "            \n",
        "            # Iterate over data\n",
        "            for inputs, labels in dataloaders[phase]:\n",
        "                inputs = inputs.to(device)\n",
        "                labels = labels.to(device)\n",
        "                \n",
        "                # Zero the parametsrs\n",
        "                optimizer.zero_grad()\n",
        "                \n",
        "                # Forward\n",
        "                with torch.set_grad_enabled(phase == \"train\"):\n",
        "                    outputs = model(inputs)\n",
        "                    _, preds = torch.max(outputs, 1)\n",
        "                    loss = criterion(outputs, labels)\n",
        "                    \n",
        "                    if phase == \"train\":\n",
        "                        loss.backward()\n",
        "                        optimizer.step()\n",
        "                    \n",
        "                # Statistics\n",
        "                running_loss += loss.item() * inputs.size(0)\n",
        "                running_corrects += torch.sum(preds == labels.data)\n",
        "            \n",
        "            if phase == \"train\":\n",
        "                scheduler.step()\n",
        "            \n",
        "            epoch_loss = running_loss / datasizes[phase]\n",
        "            epoch_acc = running_corrects.double()/datasizes[phase]\n",
        "            \n",
        "            print(\"{} Loss: {:.4f} Acc: {:.4f}\".format(phase, epoch_loss, epoch_acc))\n",
        "            if(phase == \"test\" and epoch_acc > best_acc):\n",
        "                best_acc = epoch_acc\n",
        "                best_model_wts = copy.deepcopy(model.state_dict())\n",
        "        print()\n",
        "    \n",
        "    time_elapsed = time.time() - since\n",
        "    print(\"Training complete in {:0f}m {:0f}s\".format(time_elapsed//60, time_elapsed%60))\n",
        "    print(\"Best val Acc: {}:4f\".format(best_acc))\n",
        "    \n",
        "    # load best model parameters\n",
        "    model.load_state_dict(best_model_wts)\n",
        "    return model"
      ],
      "execution_count": 0,
      "outputs": []
    },
    {
      "cell_type": "code",
      "metadata": {
        "id": "g2dDSrlEqwNS",
        "colab_type": "code",
        "outputId": "11584294-5e56-4dea-bb4c-856d3dd521cc",
        "colab": {
          "base_uri": "https://localhost:8080/",
          "height": 83,
          "referenced_widgets": [
            "d2589a04d9fd49fe98ca590ce78b6613",
            "3ad09678c79c4ff0bf1e9c9b63638c93",
            "a46495244f0c4cf5845a958eb2f7d09d",
            "323e2bf4cf564a61ab7752485fa65d1b",
            "fa1473ddbc0746bb8ad5a31f571000b5",
            "170350223dc844d6b08387aad3d6eb5e",
            "055a4ebece2d42b1ab9953116abc1026",
            "d3fe13a671904a2d9b2f4d105d9da41b"
          ]
        }
      },
      "source": [
        "model_ft = models.resnet18(pretrained=True)\n",
        "\n",
        "# turn training false for all layers, other than fc layer\n",
        "for param in model_ft.parameters():\n",
        "    param.requires_grad = False\n",
        "    \n",
        "num_ftrs = model_ft.fc.in_features\n",
        "model_ft.fc = nn.Linear(num_ftrs, len(CLASSES))\n",
        "model_ft = model_ft.to(device)\n",
        "criterion = nn.CrossEntropyLoss()\n",
        "optimizer_ft = optim.SGD(model_ft.parameters(), lr=0.003, momentum=0.9)\n",
        "exp_lr_sc = lr_scheduler.StepLR(optimizer_ft, step_size=7, gamma=0.1)"
      ],
      "execution_count": 0,
      "outputs": [
        {
          "output_type": "stream",
          "text": [
            "Downloading: \"https://download.pytorch.org/models/resnet18-5c106cde.pth\" to /root/.cache/torch/checkpoints/resnet18-5c106cde.pth\n"
          ],
          "name": "stderr"
        },
        {
          "output_type": "display_data",
          "data": {
            "application/vnd.jupyter.widget-view+json": {
              "model_id": "d2589a04d9fd49fe98ca590ce78b6613",
              "version_minor": 0,
              "version_major": 2
            },
            "text/plain": [
              "HBox(children=(IntProgress(value=0, max=46827520), HTML(value='')))"
            ]
          },
          "metadata": {
            "tags": []
          }
        },
        {
          "output_type": "stream",
          "text": [
            "\n"
          ],
          "name": "stdout"
        }
      ]
    },
    {
      "cell_type": "code",
      "metadata": {
        "id": "4vCe3tV2qwNX",
        "colab_type": "code",
        "outputId": "35acf50e-2591-45e6-85ca-67ba20b09541",
        "colab": {
          "base_uri": "https://localhost:8080/",
          "height": 476
        }
      },
      "source": [
        "model_ft = train_model(model_ft, criterion, optimizer_ft, exp_lr_sc, epochs=5)"
      ],
      "execution_count": 0,
      "outputs": [
        {
          "output_type": "stream",
          "text": [
            "Epoch 0/4\n",
            "----------\n",
            "train Loss: 3.3792 Acc: 0.4122\n",
            "test Loss: 1.8763 Acc: 0.7813\n",
            "\n",
            "Epoch 1/4\n",
            "----------\n",
            "train Loss: 1.5749 Acc: 0.7969\n",
            "test Loss: 0.9754 Acc: 0.9040\n",
            "\n",
            "Epoch 2/4\n",
            "----------\n",
            "train Loss: 1.0324 Acc: 0.8640\n",
            "test Loss: 0.6553 Acc: 0.9320\n",
            "\n",
            "Epoch 3/4\n",
            "----------\n",
            "train Loss: 0.7950 Acc: 0.8884\n",
            "test Loss: 0.5206 Acc: 0.9440\n",
            "\n",
            "Epoch 4/4\n",
            "----------\n",
            "train Loss: 0.6647 Acc: 0.8998\n",
            "test Loss: 0.4330 Acc: 0.9453\n",
            "\n",
            "Training complete in 10.000000m 55.561988s\n",
            "Best val Acc: 0.9453333333333332:4f\n"
          ],
          "name": "stdout"
        }
      ]
    },
    {
      "cell_type": "markdown",
      "metadata": {
        "id": "o6o7BE-CqwNc",
        "colab_type": "text"
      },
      "source": [
        "##### Pretrained model result\n",
        "Using the pretrained model ResNet18, we can achieve some pretty good results with only a few epochs. <br>\n",
        "In the latter parts, we will try to tune the parameters to achieve an even better result"
      ]
    },
    {
      "cell_type": "code",
      "metadata": {
        "id": "6IujumUaqwNe",
        "colab_type": "code",
        "colab": {}
      },
      "source": [
        "def imshowaxis(ax, img, orig, pred):\n",
        "    img = img / 2 + 0.5\n",
        "    npimg = img.numpy()\n",
        "    ax.imshow(np.transpose(npimg, (1, 2, 0)))\n",
        "    if orig != pred:\n",
        "        ax.set_title(orig + \"\\n\" + pred, color=\"red\")\n",
        "    else:\n",
        "        ax.set_title(orig + \"\\n\" + pred)\n",
        "    ax.axis(\"off\")\n",
        "\n",
        "\n",
        "def vis_model(model, num_images=25):\n",
        "    was_training = model.training\n",
        "    model.eval()\n",
        "    images_so_far = 0\n",
        "    figure, ax = plt.subplots(5, 5, figsize=(20, 20))\n",
        "    \n",
        "    \n",
        "    with torch.no_grad():\n",
        "        for i , (inputs, labels) in enumerate(dataloaders[\"test\"]):\n",
        "            inputs = inputs.to(device)\n",
        "            labels = labels.to(device)\n",
        "            outputs = model(inputs)\n",
        "            _, preds = torch.max(outputs, 1)\n",
        "            \n",
        "            for i in range(5):\n",
        "                for j in range(5):\n",
        "                    if images_so_far < num_images:\n",
        "                        imshowaxis(ax[i][j], inputs.cpu().data[images_so_far], CLASSES[labels[images_so_far]], CLASSES[preds[images_so_far]])\n",
        "                    else:\n",
        "                        model.train(mode=was_training)\n",
        "                        return\n",
        "                    images_so_far += 1\n",
        "        model.train(mode=was_training)"
      ],
      "execution_count": 0,
      "outputs": []
    },
    {
      "cell_type": "code",
      "metadata": {
        "id": "nbcMfEZHCKH1",
        "colab_type": "code",
        "colab": {}
      },
      "source": [
        ""
      ],
      "execution_count": 0,
      "outputs": []
    }
  ]
}